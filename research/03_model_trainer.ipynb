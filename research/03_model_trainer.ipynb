{
 "cells": [
  {
   "cell_type": "code",
   "execution_count": 1,
   "metadata": {},
   "outputs": [],
   "source": [
    "import os"
   ]
  },
  {
   "cell_type": "code",
   "execution_count": 2,
   "metadata": {},
   "outputs": [
    {
     "data": {
      "text/plain": [
       "'d:\\\\DS\\\\Projects\\\\DL\\\\Cars-Tanks-Classification\\\\research'"
      ]
     },
     "execution_count": 2,
     "metadata": {},
     "output_type": "execute_result"
    }
   ],
   "source": [
    "%pwd"
   ]
  },
  {
   "cell_type": "code",
   "execution_count": 3,
   "metadata": {},
   "outputs": [],
   "source": [
    "os.chdir(\"../\")"
   ]
  },
  {
   "cell_type": "code",
   "execution_count": 4,
   "metadata": {},
   "outputs": [
    {
     "data": {
      "text/plain": [
       "'d:\\\\DS\\\\Projects\\\\DL\\\\Cars-Tanks-Classification'"
      ]
     },
     "execution_count": 4,
     "metadata": {},
     "output_type": "execute_result"
    }
   ],
   "source": [
    "%pwd"
   ]
  },
  {
   "cell_type": "code",
   "execution_count": 5,
   "metadata": {},
   "outputs": [],
   "source": [
    "from dataclasses import dataclass\n",
    "from pathlib import Path\n",
    "\n",
    "\n",
    "@dataclass(frozen=True)\n",
    "class TrainingConfig:\n",
    "    root_dir: Path\n",
    "    trained_model_path: Path\n",
    "    updated_base_model_path: Path\n",
    "    training_data: Path\n",
    "    params_epochs: int\n",
    "    params_batch_size: int\n",
    "    params_is_augmentation: bool\n",
    "    params_image_size: list"
   ]
  },
  {
   "cell_type": "code",
   "execution_count": 6,
   "metadata": {},
   "outputs": [],
   "source": [
    "from cnnClassifier.constants import *\n",
    "from cnnClassifier.utils.common import read_yaml, create_directories\n",
    "import tensorflow as tf"
   ]
  },
  {
   "cell_type": "code",
   "execution_count": 7,
   "metadata": {},
   "outputs": [],
   "source": [
    "class ConfigurationManager:\n",
    "    def __init__(\n",
    "        self,\n",
    "        config_filepath = CONFIG_FILE_PATH,\n",
    "        params_filepath = PARAMS_FILE_PATH):\n",
    "\n",
    "        self.config = read_yaml(config_filepath)\n",
    "        self.params = read_yaml(params_filepath)\n",
    "\n",
    "        create_directories([self.config.artifacts_root])\n",
    "\n",
    "        \n",
    "    def get_training_config(self) -> TrainingConfig:\n",
    "        training = self.config.training\n",
    "        prepare_base_model = self.config.prepare_base_model\n",
    "        params = self.params\n",
    "        training_data = os.path.join(self.config.data_ingestion.unzip_dir, self.config.data_ingestion.dataset_name)\n",
    "        \n",
    "        create_directories([\n",
    "            Path(training.root_dir)\n",
    "        ])\n",
    "\n",
    "        training_config = TrainingConfig(\n",
    "            root_dir=Path(training.root_dir),\n",
    "            trained_model_path=Path(training.trained_model_path),\n",
    "            updated_base_model_path=Path(prepare_base_model.updated_base_model_path),\n",
    "            training_data=Path(training_data),\n",
    "            params_epochs=params.EPOCHS,\n",
    "            params_batch_size=params.BATCH_SIZE,\n",
    "            params_is_augmentation=params.AUGMENTATION,\n",
    "            params_image_size=params.IMAGE_SIZE\n",
    "        )\n",
    "\n",
    "        return training_config"
   ]
  },
  {
   "cell_type": "code",
   "execution_count": 8,
   "metadata": {},
   "outputs": [],
   "source": [
    "class Training:\n",
    "    def __init__(self, config: TrainingConfig):\n",
    "        self.config = config\n",
    "\n",
    "    def get_base_model(self):\n",
    "        self.model = tf.keras.models.load_model(\n",
    "            self.config.updated_base_model_path\n",
    "        )\n",
    "\n",
    "    def train_valid_generator(self):\n",
    "        datagenerator_kwargs = dict(\n",
    "            rescale=1.0 / 255,\n",
    "            validation_split=0.20\n",
    "        )\n",
    "\n",
    "        dataflow_kwargs = dict(\n",
    "            target_size=self.config.params_image_size[:-1],\n",
    "            batch_size=self.config.params_batch_size,\n",
    "            interpolation=\"bicubic\"\n",
    "        )\n",
    "\n",
    "        valid_datagenerator = tf.keras.preprocessing.image.ImageDataGenerator(\n",
    "            **datagenerator_kwargs\n",
    "        )\n",
    "\n",
    "        self.valid_generator = valid_datagenerator.flow_from_directory(\n",
    "            directory=self.config.training_data,\n",
    "            subset=\"validation\",\n",
    "            shuffle=False,\n",
    "            **dataflow_kwargs\n",
    "        )\n",
    "\n",
    "        if self.config.params_is_augmentation:\n",
    "            train_datagenerator = tf.keras.preprocessing.image.ImageDataGenerator(\n",
    "                brightness_range=(0.8, 1.2),\n",
    "                **datagenerator_kwargs\n",
    "            )\n",
    "        else:\n",
    "            train_datagenerator = valid_datagenerator\n",
    "\n",
    "        self.train_generator = train_datagenerator.flow_from_directory(\n",
    "            directory=self.config.training_data,\n",
    "            subset=\"training\",\n",
    "            shuffle=True,\n",
    "            **dataflow_kwargs\n",
    "        )\n",
    "\n",
    "    @staticmethod\n",
    "    def save_model(path: Path, model: tf.keras.Model):\n",
    "        model.save(path)\n",
    "\n",
    "    def train(self):\n",
    "        self.steps_per_epoch = self.train_generator.samples // self.train_generator.batch_size\n",
    "        self.validation_steps = self.valid_generator.samples // self.valid_generator.batch_size\n",
    "\n",
    "        # Define the ModelCheckpoint callback\n",
    "        checkpoint_callback = tf.keras.callbacks.ModelCheckpoint(\n",
    "            filepath=self.config.trained_model_path,  # Save the best model here\n",
    "            monitor=\"val_loss\",                      # Monitor validation loss\n",
    "            save_best_only=True,                     # Save only the best model\n",
    "            mode=\"min\",                              # Minimize the validation loss\n",
    "            verbose=1                                # Print a message when saving\n",
    "        )\n",
    "\n",
    "        # Train the model\n",
    "        self.model.fit(\n",
    "            self.train_generator,\n",
    "            epochs=self.config.params_epochs,\n",
    "            steps_per_epoch=self.steps_per_epoch,\n",
    "            validation_steps=self.validation_steps,\n",
    "            validation_data=self.valid_generator,\n",
    "            callbacks=[checkpoint_callback]  # Include the callback\n",
    "        )\n"
   ]
  },
  {
   "cell_type": "code",
   "execution_count": 9,
   "metadata": {},
   "outputs": [
    {
     "name": "stdout",
     "output_type": "stream",
     "text": [
      "[2025-01-05 21:36:05,585: INFO: common: yaml file: config\\config.yaml loaded successfully]\n",
      "[2025-01-05 21:36:05,597: INFO: common: yaml file: params.yaml loaded successfully]\n",
      "[2025-01-05 21:36:05,600: INFO: common: created directory at: artifacts]\n",
      "[2025-01-05 21:36:05,602: INFO: common: created directory at: artifacts\\training]\n"
     ]
    },
    {
     "name": "stdout",
     "output_type": "stream",
     "text": [
      "Found 300 images belonging to 2 classes.\n",
      "Found 1203 images belonging to 2 classes.\n",
      "Epoch 1/10\n",
      "75/75 [==============================] - ETA: 0s - loss: 0.4994 - accuracy: 0.9638 - precision: 0.9638 - recall: 0.9638\n",
      "Epoch 1: val_loss improved from inf to 0.79833, saving model to artifacts\\training\\model.keras\n",
      "75/75 [==============================] - 145s 2s/step - loss: 0.4994 - accuracy: 0.9638 - precision: 0.9638 - recall: 0.9638 - val_loss: 0.7983 - val_accuracy: 0.9757 - val_precision: 0.9757 - val_recall: 0.9757\n",
      "Epoch 2/10\n",
      "75/75 [==============================] - ETA: 0s - loss: 0.0255 - accuracy: 0.9958 - precision: 0.9958 - recall: 0.9958\n",
      "Epoch 2: val_loss did not improve from 0.79833\n",
      "75/75 [==============================] - 124s 2s/step - loss: 0.0255 - accuracy: 0.9958 - precision: 0.9958 - recall: 0.9958 - val_loss: 1.0403 - val_accuracy: 0.9757 - val_precision: 0.9757 - val_recall: 0.9757\n",
      "Epoch 3/10\n",
      "75/75 [==============================] - ETA: 0s - loss: 0.0204 - accuracy: 0.9983 - precision: 0.9983 - recall: 0.9983\n",
      "Epoch 3: val_loss improved from 0.79833 to 0.75845, saving model to artifacts\\training\\model.keras\n",
      "75/75 [==============================] - 120s 2s/step - loss: 0.0204 - accuracy: 0.9983 - precision: 0.9983 - recall: 0.9983 - val_loss: 0.7585 - val_accuracy: 0.9826 - val_precision: 0.9826 - val_recall: 0.9826\n",
      "Epoch 4/10\n",
      "75/75 [==============================] - ETA: 0s - loss: 0.0020 - accuracy: 0.9992 - precision: 0.9992 - recall: 0.9992\n",
      "Epoch 4: val_loss did not improve from 0.75845\n",
      "75/75 [==============================] - 97s 1s/step - loss: 0.0020 - accuracy: 0.9992 - precision: 0.9992 - recall: 0.9992 - val_loss: 0.9673 - val_accuracy: 0.9792 - val_precision: 0.9792 - val_recall: 0.9792\n",
      "Epoch 5/10\n",
      "75/75 [==============================] - ETA: 0s - loss: 2.8552e-05 - accuracy: 1.0000 - precision: 1.0000 - recall: 1.0000\n",
      "Epoch 5: val_loss did not improve from 0.75845\n",
      "75/75 [==============================] - 106s 1s/step - loss: 2.8552e-05 - accuracy: 1.0000 - precision: 1.0000 - recall: 1.0000 - val_loss: 0.8940 - val_accuracy: 0.9792 - val_precision: 0.9792 - val_recall: 0.9792\n",
      "Epoch 6/10\n",
      "75/75 [==============================] - ETA: 0s - loss: 1.3825e-05 - accuracy: 1.0000 - precision: 1.0000 - recall: 1.0000\n",
      "Epoch 6: val_loss did not improve from 0.75845\n",
      "75/75 [==============================] - 102s 1s/step - loss: 1.3825e-05 - accuracy: 1.0000 - precision: 1.0000 - recall: 1.0000 - val_loss: 0.9045 - val_accuracy: 0.9792 - val_precision: 0.9792 - val_recall: 0.9792\n",
      "Epoch 7/10\n",
      "75/75 [==============================] - ETA: 0s - loss: 0.0149 - accuracy: 0.9992 - precision: 0.9992 - recall: 0.9992\n",
      "Epoch 7: val_loss did not improve from 0.75845\n",
      "75/75 [==============================] - 100s 1s/step - loss: 0.0149 - accuracy: 0.9992 - precision: 0.9992 - recall: 0.9992 - val_loss: 0.8076 - val_accuracy: 0.9757 - val_precision: 0.9757 - val_recall: 0.9757\n",
      "Epoch 8/10\n",
      "75/75 [==============================] - ETA: 0s - loss: 0.0069 - accuracy: 0.9975 - precision: 0.9975 - recall: 0.9975\n",
      "Epoch 8: val_loss did not improve from 0.75845\n",
      "75/75 [==============================] - 104s 1s/step - loss: 0.0069 - accuracy: 0.9975 - precision: 0.9975 - recall: 0.9975 - val_loss: 0.8730 - val_accuracy: 0.9757 - val_precision: 0.9757 - val_recall: 0.9757\n",
      "Epoch 9/10\n",
      "75/75 [==============================] - ETA: 0s - loss: 1.2422e-04 - accuracy: 1.0000 - precision: 1.0000 - recall: 1.0000\n",
      "Epoch 9: val_loss did not improve from 0.75845\n",
      "75/75 [==============================] - 99s 1s/step - loss: 1.2422e-04 - accuracy: 1.0000 - precision: 1.0000 - recall: 1.0000 - val_loss: 0.8925 - val_accuracy: 0.9792 - val_precision: 0.9792 - val_recall: 0.9792\n",
      "Epoch 10/10\n",
      "75/75 [==============================] - ETA: 0s - loss: 2.6574e-05 - accuracy: 1.0000 - precision: 1.0000 - recall: 1.0000\n",
      "Epoch 10: val_loss did not improve from 0.75845\n",
      "75/75 [==============================] - 99s 1s/step - loss: 2.6574e-05 - accuracy: 1.0000 - precision: 1.0000 - recall: 1.0000 - val_loss: 0.8880 - val_accuracy: 0.9792 - val_precision: 0.9792 - val_recall: 0.9792\n"
     ]
    }
   ],
   "source": [
    "try:\n",
    "    config = ConfigurationManager()\n",
    "    training_config = config.get_training_config()\n",
    "    training = Training(config=training_config)\n",
    "    training.get_base_model()\n",
    "    training.train_valid_generator()\n",
    "    training.train()\n",
    "    \n",
    "except Exception as e:\n",
    "    raise e"
   ]
  }
 ],
 "metadata": {
  "kernelspec": {
   "display_name": "CTCls",
   "language": "python",
   "name": "python3"
  },
  "language_info": {
   "codemirror_mode": {
    "name": "ipython",
    "version": 3
   },
   "file_extension": ".py",
   "mimetype": "text/x-python",
   "name": "python",
   "nbconvert_exporter": "python",
   "pygments_lexer": "ipython3",
   "version": "3.10.16"
  }
 },
 "nbformat": 4,
 "nbformat_minor": 2
}

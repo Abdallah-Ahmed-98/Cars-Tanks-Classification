{
 "cells": [
  {
   "cell_type": "code",
   "execution_count": 1,
   "metadata": {},
   "outputs": [],
   "source": [
    "import os"
   ]
  },
  {
   "cell_type": "code",
   "execution_count": 2,
   "metadata": {},
   "outputs": [
    {
     "data": {
      "text/plain": [
       "'d:\\\\DS\\\\Projects\\\\DL\\\\Cars-Tanks-Classification\\\\research'"
      ]
     },
     "execution_count": 2,
     "metadata": {},
     "output_type": "execute_result"
    }
   ],
   "source": [
    "%pwd"
   ]
  },
  {
   "cell_type": "code",
   "execution_count": 3,
   "metadata": {},
   "outputs": [],
   "source": [
    "os.chdir(\"../\")"
   ]
  },
  {
   "cell_type": "code",
   "execution_count": 4,
   "metadata": {},
   "outputs": [
    {
     "data": {
      "text/plain": [
       "'d:\\\\DS\\\\Projects\\\\DL\\\\Cars-Tanks-Classification'"
      ]
     },
     "execution_count": 4,
     "metadata": {},
     "output_type": "execute_result"
    }
   ],
   "source": [
    "%pwd"
   ]
  },
  {
   "cell_type": "code",
   "execution_count": 5,
   "metadata": {},
   "outputs": [],
   "source": [
    "# You have to provide yours not mine!\n",
    "\n",
    "#os.environ[\"MLFLOW_TRACKING_URI\"]=\"https://dagshub.com/Abdallah-Ahmed-98/Cars-Tanks-Classification.mlflow\"\n",
    "#os.environ[\"MLFLOW_TRACKING_USERNAME\"]=\"Abdallah-Ahmed-98\"\n",
    "#os.environ[\"MLFLOW_TRACKING_PASSWORD\"]=\"****************************************\" "
   ]
  },
  {
   "cell_type": "code",
   "execution_count": 6,
   "metadata": {},
   "outputs": [],
   "source": [
    "import tensorflow as tf"
   ]
  },
  {
   "cell_type": "code",
   "execution_count": 7,
   "metadata": {},
   "outputs": [],
   "source": [
    "from dataclasses import dataclass\n",
    "from pathlib import Path\n",
    "\n",
    "@dataclass(frozen=True)\n",
    "class EvaluationConfig:\n",
    "    root_dir: Path\n",
    "    metric_file_name: Path\n",
    "    model_path: Path\n",
    "    dataset_dir: Path\n",
    "    confusion_matrix_file_path: Path\n",
    "    confusion_matrix_data_file_path: Path\n",
    "    roc_curve_file_path: Path\n",
    "    roc_data_file_path: Path\n",
    "    all_params: dict\n",
    "    mlflow_uri: str\n",
    "    params_image_size: list\n",
    "    params_batch_size: int\n",
    "    params_registered_model_name: str"
   ]
  },
  {
   "cell_type": "code",
   "execution_count": 8,
   "metadata": {},
   "outputs": [],
   "source": [
    "from cnnClassifier.constants import *\n",
    "from cnnClassifier.utils.common import read_yaml, create_directories, save_json"
   ]
  },
  {
   "cell_type": "code",
   "execution_count": 9,
   "metadata": {},
   "outputs": [],
   "source": [
    "class ConfigurationManager:\n",
    "    def __init__(\n",
    "        self, \n",
    "        config_filepath = CONFIG_FILE_PATH,\n",
    "        params_filepath = PARAMS_FILE_PATH):\n",
    "        self.config = read_yaml(config_filepath)\n",
    "        self.params = read_yaml(params_filepath)\n",
    "\n",
    "        create_directories([self.config.artifacts_root])\n",
    "\n",
    "    \n",
    "    def get_evaluation_config(self) -> EvaluationConfig:\n",
    "\n",
    "        evaluation = self.config.evaluation\n",
    "        params = self.params\n",
    "        \n",
    "        create_directories([\n",
    "            Path(evaluation.root_dir)\n",
    "        ])\n",
    "\n",
    "        eval_config = EvaluationConfig(\n",
    "            root_dir=evaluation.root_dir,\n",
    "            model_path=evaluation.model_path,\n",
    "            dataset_dir=evaluation.dataset_dir,\n",
    "            metric_file_name = evaluation.metric_file_name,\n",
    "            confusion_matrix_file_path = evaluation.confusion_matrix_file_path,\n",
    "            confusion_matrix_data_file_path = evaluation.confusion_matrix_data_file_path,\n",
    "            roc_curve_file_path = evaluation.roc_curve_file_path,\n",
    "            roc_data_file_path= evaluation.roc_data_file_path,\n",
    "            mlflow_uri=\"\",\n",
    "            all_params=params,\n",
    "            params_image_size=self.params.IMAGE_SIZE,\n",
    "            params_batch_size=self.params.BATCH_SIZE,\n",
    "            params_registered_model_name=self.params.REGISTERED_MODEL_NAME\n",
    "        )\n",
    "        return eval_config\n",
    "    \n",
    "\n",
    "\n"
   ]
  },
  {
   "cell_type": "code",
   "execution_count": 10,
   "metadata": {},
   "outputs": [],
   "source": [
    "import tensorflow as tf\n",
    "from pathlib import Path\n",
    "import mlflow\n",
    "import mlflow.keras\n",
    "from urllib.parse import urlparse\n",
    "from sklearn.metrics import classification_report, confusion_matrix, roc_curve, auc\n",
    "import numpy as np\n",
    "import matplotlib.pyplot as plt\n",
    "import seaborn as sns\n",
    "from sklearn.preprocessing import label_binarize"
   ]
  },
  {
   "cell_type": "code",
   "execution_count": 11,
   "metadata": {},
   "outputs": [],
   "source": [
    "\n",
    "class Evaluation:\n",
    "    def __init__(self, config: EvaluationConfig):\n",
    "        self.config = config\n",
    "\n",
    "    def _valid_generator(self):\n",
    "        datagenerator_kwargs = dict(\n",
    "            rescale=1.0 / 255,\n",
    "            validation_split=0.30\n",
    "        )\n",
    "\n",
    "        dataflow_kwargs = dict(\n",
    "            target_size=self.config.params_image_size[:-1],\n",
    "            batch_size=self.config.params_batch_size,\n",
    "            interpolation=\"bicubic\"\n",
    "        )\n",
    "\n",
    "        valid_datagenerator = tf.keras.preprocessing.image.ImageDataGenerator(\n",
    "            **datagenerator_kwargs\n",
    "        )\n",
    "\n",
    "        self.valid_generator = valid_datagenerator.flow_from_directory(\n",
    "            directory=self.config.dataset_dir,\n",
    "            subset=\"validation\",\n",
    "            shuffle=False,\n",
    "            **dataflow_kwargs\n",
    "        )\n",
    "\n",
    "    @staticmethod\n",
    "    def load_model(path: Path) -> tf.keras.Model:\n",
    "        return tf.keras.models.load_model(path)\n",
    "\n",
    "    def evaluation(self):\n",
    "        # Load the model\n",
    "        self.model = self.load_model(self.config.model_path)\n",
    "\n",
    "        # Prepare the validation generator\n",
    "        self._valid_generator()\n",
    "\n",
    "        # Evaluate on the validation set\n",
    "        self.score = self.model.evaluate(self.valid_generator, verbose=1)\n",
    "\n",
    "        # Generate predictions\n",
    "        y_pred = self.model.predict(self.valid_generator)\n",
    "        y_pred_classes = np.argmax(y_pred, axis=1)\n",
    "        y_true = self.valid_generator.classes\n",
    "\n",
    "        # Calculate precision and recall\n",
    "        self.report = classification_report(y_true, y_pred_classes, output_dict=True)\n",
    "        precision = self.report[\"macro avg\"][\"precision\"]\n",
    "        recall = self.report[\"macro avg\"][\"recall\"]\n",
    "\n",
    "        # Save scores\n",
    "        self.save_score()\n",
    "\n",
    "        # Save and log confusion matrix\n",
    "        self.save_confusion_matrix(y_true, y_pred_classes)\n",
    "\n",
    "        # Save and log ROC curve\n",
    "        self.save_roc_curve(y_true, y_pred)\n",
    "\n",
    "        return precision, recall\n",
    "\n",
    "    def save_score(self):\n",
    "        scores = {\n",
    "            \"loss\": self.score[0],\n",
    "            \"accuracy\": self.score[1],\n",
    "            \"precision\": self.report[\"macro avg\"][\"precision\"],\n",
    "            \"recall\": self.report[\"macro avg\"][\"recall\"]\n",
    "        }\n",
    "        save_json(path=Path(self.config.metric_file_name), data=scores)\n",
    "\n",
    "    def save_confusion_matrix(self, y_true, y_pred_classes):\n",
    "        \"\"\"\n",
    "        Save the normalized confusion matrix as a JSON file and as a heatmap image.\n",
    "    \n",
    "        Args:\n",
    "            y_true (np.ndarray): True labels.\n",
    "            y_pred_classes (np.ndarray): Predicted class labels.\n",
    "        \"\"\"\n",
    "        # Compute the confusion matrix\n",
    "        cm = confusion_matrix(y_true, y_pred_classes)\n",
    "\n",
    "        # Normalize the confusion matrix\n",
    "        cm_normalized = cm.astype('float') / cm.sum(axis=1)[:, np.newaxis]\n",
    "        cm_normalized = np.nan_to_num(cm_normalized, nan=0.0)  # Handle cases where rows sum to 0\n",
    "\n",
    "        # Save normalized confusion matrix as JSON\n",
    "        cm_data_file = Path(self.config.confusion_matrix_data_file_path)\n",
    "        cm_data = {\n",
    "            \"confusion_matrix\": cm.tolist(),\n",
    "            \"normalized_confusion_matrix\": cm_normalized.tolist(),\n",
    "        }\n",
    "        cm_data_file.parent.mkdir(parents=True, exist_ok=True)  # Ensure the directory exists\n",
    "        save_json(cm_data_file, cm_data)\n",
    "\n",
    "        # Save the normalized confusion matrix as a heatmap\n",
    "        plt.figure(figsize=(10, 7))\n",
    "        sns.heatmap(cm_normalized, annot=True, fmt=\".2f\", cmap=\"Blues\", cbar=True)\n",
    "        plt.xlabel(\"Predicted\")\n",
    "        plt.ylabel(\"Actual\")\n",
    "        plt.title(\"Normalized Confusion Matrix\")\n",
    "        cm_image_file = Path(self.config.confusion_matrix_file_path)\n",
    "        plt.savefig(cm_image_file, bbox_inches='tight', dpi=300)\n",
    "        plt.close()\n",
    "\n",
    "        return cm_data_file, cm_image_file\n",
    "\n",
    "\n",
    "\n",
    "    def save_roc_curve(self, y_true, y_pred):\n",
    "        # Binarize the labels for ROC curve calculation\n",
    "        y_true_binarized = label_binarize(y_true, classes=np.unique(y_true))\n",
    "        n_classes = y_true_binarized.shape[1]\n",
    "\n",
    "        # Calculate ROC curve and AUC for each class\n",
    "        fpr = {}\n",
    "        tpr = {}\n",
    "        roc_auc = {}\n",
    "\n",
    "        for i in range(n_classes):\n",
    "            fpr[i], tpr[i], _ = roc_curve(y_true_binarized[:, i], y_pred[:, i])\n",
    "            roc_auc[i] = auc(fpr[i], tpr[i])\n",
    "\n",
    "        # Save ROC data for all classes\n",
    "        roc_data_file = Path(self.config.roc_data_file_path)\n",
    "        roc_data = {\n",
    "            f\"class_{i}\": {\"fpr\": fpr[i].tolist(), \"tpr\": tpr[i].tolist(), \"auc\": roc_auc[i]}\n",
    "            for i in range(n_classes)\n",
    "        }\n",
    "        save_json(roc_data_file, roc_data)\n",
    "\n",
    "        # Plot ROC curve for each class\n",
    "        plt.figure()\n",
    "        for i in range(n_classes):\n",
    "            plt.plot(\n",
    "                fpr[i], tpr[i], lw=2, label=f\"Class {i} (AUC = {roc_auc[i]:.2f})\"\n",
    "            )\n",
    "        plt.plot([0, 1], [0, 1], color=\"gray\", lw=2, linestyle=\"--\")\n",
    "        plt.xlabel(\"False Positive Rate\")\n",
    "        plt.ylabel(\"True Positive Rate\")\n",
    "        plt.title(\"Receiver Operating Characteristic\")\n",
    "        plt.legend(loc=\"lower right\")\n",
    "        roc_image_file=Path(self.config.roc_curve_file_path)\n",
    "        plt.savefig(roc_image_file)\n",
    "        plt.close()\n",
    "\n",
    "        return roc_data_file, roc_image_file\n",
    "\n",
    "\n",
    "    def log_into_mlflow(self, precision, recall):\n",
    "        mlflow.set_registry_uri(self.config.mlflow_uri)\n",
    "        tracking_url_type_store = urlparse(mlflow.get_tracking_uri()).scheme\n",
    "\n",
    "        with mlflow.start_run():\n",
    "            # Log parameters and metrics\n",
    "            mlflow.log_params(self.config.all_params)\n",
    "            mlflow.log_metrics(\n",
    "                {\n",
    "                    \"loss\": self.score[0],\n",
    "                    \"accuracy\": self.score[1],\n",
    "                    \"precision\": precision,\n",
    "                    \"recall\": recall,\n",
    "                }\n",
    "            )\n",
    "\n",
    "            # Log confusion matrix\n",
    "            cm_file, cm_image_file = self.save_confusion_matrix(\n",
    "                self.valid_generator.classes, np.argmax(self.model.predict(self.valid_generator), axis=1)\n",
    "            )\n",
    "            mlflow.log_artifact(str(cm_file))\n",
    "            mlflow.log_artifact(cm_image_file)\n",
    "\n",
    "            # Log ROC curve\n",
    "            roc_file, roc_image_file = self.save_roc_curve(\n",
    "                self.valid_generator.classes, self.model.predict(self.valid_generator)\n",
    "            )\n",
    "            mlflow.log_artifact(str(roc_file))\n",
    "            mlflow.log_artifact(roc_image_file)\n",
    "\n",
    "            # Register the model\n",
    "            if tracking_url_type_store != \"file\":\n",
    "                mlflow.keras.log_model(self.model, \"model\", registered_model_name=self.config.params_registered_model_name)\n",
    "            else:\n",
    "                mlflow.keras.log_model(self.model, \"model\")\n",
    "\n"
   ]
  },
  {
   "cell_type": "code",
   "execution_count": 12,
   "metadata": {},
   "outputs": [
    {
     "name": "stdout",
     "output_type": "stream",
     "text": [
      "[2025-01-05 22:58:08,215: INFO: common: yaml file: config\\config.yaml loaded successfully]\n",
      "[2025-01-05 22:58:08,237: INFO: common: yaml file: params.yaml loaded successfully]\n",
      "[2025-01-05 22:58:08,239: INFO: common: created directory at: artifacts]\n",
      "[2025-01-05 22:58:08,240: INFO: common: created directory at: artifacts\\evaluation]\n",
      "Found 450 images belonging to 2 classes.\n",
      "29/29 [==============================] - 31s 1s/step - loss: 0.2881 - accuracy: 0.9956 - precision: 0.9956 - recall: 0.9956\n",
      "29/29 [==============================] - 37s 1s/step\n",
      "[2025-01-05 22:59:20,748: INFO: common: json file saved at: artifacts\\evaluation\\metrics.json]\n",
      "[2025-01-05 22:59:20,760: INFO: common: json file saved at: artifacts\\evaluation\\confusion_matrix.json]\n",
      "[2025-01-05 22:59:21,549: INFO: common: json file saved at: artifacts\\evaluation\\roc_data.json]\n"
     ]
    },
    {
     "name": "stderr",
     "output_type": "stream",
     "text": [
      "2025/01/05 22:59:21 WARNING mlflow.utils.git_utils: Failed to import Git (the Git executable is probably not on your PATH), so Git SHA is not available. Error: Failed to initialize: Bad git executable.\n",
      "The git executable must be specified in one of the following ways:\n",
      "    - be included in your $PATH\n",
      "    - be set via $GIT_PYTHON_GIT_EXECUTABLE\n",
      "    - explicitly set via git.refresh(<full-path-to-git-executable>)\n",
      "\n",
      "All git commands will error until this is rectified.\n",
      "\n",
      "This initial message can be silenced or aggravated in the future by setting the\n",
      "$GIT_PYTHON_REFRESH environment variable. Use one of the following values:\n",
      "    - quiet|q|silence|s|silent|none|n|0: for no message or exception\n",
      "    - warn|w|warning|log|l|1: for a warning message (logging level CRITICAL, displayed by default)\n",
      "    - error|e|exception|raise|r|2: for a raised exception\n",
      "\n",
      "Example:\n",
      "    export GIT_PYTHON_REFRESH=quiet\n",
      "\n"
     ]
    },
    {
     "name": "stdout",
     "output_type": "stream",
     "text": [
      "29/29 [==============================] - 33s 1s/step\n",
      "[2025-01-05 22:59:55,841: INFO: common: json file saved at: artifacts\\evaluation\\confusion_matrix.json]\n",
      "29/29 [==============================] - 34s 1s/step\n",
      "[2025-01-05 23:00:32,372: INFO: common: json file saved at: artifacts\\evaluation\\roc_data.json]\n"
     ]
    },
    {
     "name": "stderr",
     "output_type": "stream",
     "text": [
      "2025/01/05 23:00:33 WARNING mlflow.tensorflow: You are saving a TensorFlow Core model or Keras model without a signature. Inference with mlflow.pyfunc.spark_udf() will not work unless the model's pyfunc representation accepts pandas DataFrames as inference inputs.\n"
     ]
    },
    {
     "name": "stdout",
     "output_type": "stream",
     "text": [
      "[2025-01-05 23:00:54,062: WARNING: save: Found untraced functions such as _jit_compiled_convolution_op, _jit_compiled_convolution_op, _jit_compiled_convolution_op, _jit_compiled_convolution_op, _jit_compiled_convolution_op while saving (showing 5 of 53). These functions will not be directly callable after loading.]\n",
      "INFO:tensorflow:Assets written to: C:\\Users\\abdot\\AppData\\Local\\Temp\\tmp0ebems86\\model\\data\\model\\assets\n",
      "[2025-01-05 23:01:00,867: INFO: builder_impl: Assets written to: C:\\Users\\abdot\\AppData\\Local\\Temp\\tmp0ebems86\\model\\data\\model\\assets]\n"
     ]
    },
    {
     "name": "stderr",
     "output_type": "stream",
     "text": [
      "2025/01/05 23:01:28 WARNING mlflow.models.model: Model logged without a signature and input example. Please set `input_example` parameter when logging the model to auto infer the model signature.\n",
      "Successfully registered model 'ResNet50V2Model'.\n",
      "2025/01/05 23:02:47 INFO mlflow.store.model_registry.abstract_store: Waiting up to 300 seconds for model version to finish creation. Model name: ResNet50V2Model, version 1\n",
      "Created version '1' of model 'ResNet50V2Model'.\n"
     ]
    },
    {
     "name": "stdout",
     "output_type": "stream",
     "text": [
      "🏃 View run delightful-eel-257 at: https://dagshub.com/Abdallah-Ahmed-98/Cars-Tanks-Classification.mlflow/#/experiments/0/runs/50606d2b13ae4c15bbe885c74f30513d\n",
      "🧪 View experiment at: https://dagshub.com/Abdallah-Ahmed-98/Cars-Tanks-Classification.mlflow/#/experiments/0\n"
     ]
    }
   ],
   "source": [
    "try:\n",
    "    config = ConfigurationManager()\n",
    "    eval_config = config.get_evaluation_config()\n",
    "    evaluation = Evaluation(eval_config)\n",
    "    precision, recall = evaluation.evaluation()\n",
    "    evaluation.log_into_mlflow(precision, recall)\n",
    "\n",
    "except Exception as e:\n",
    "   raise e"
   ]
  }
 ],
 "metadata": {
  "kernelspec": {
   "display_name": "CTCls",
   "language": "python",
   "name": "python3"
  },
  "language_info": {
   "codemirror_mode": {
    "name": "ipython",
    "version": 3
   },
   "file_extension": ".py",
   "mimetype": "text/x-python",
   "name": "python",
   "nbconvert_exporter": "python",
   "pygments_lexer": "ipython3",
   "version": "3.10.16"
  },
  "orig_nbformat": 4
 },
 "nbformat": 4,
 "nbformat_minor": 2
}
